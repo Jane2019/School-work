{
  "nbformat": 4,
  "nbformat_minor": 0,
  "metadata": {
    "kernelspec": {
      "display_name": "Python 3",
      "language": "python",
      "name": "python3"
    },
    "language_info": {
      "codemirror_mode": {
        "name": "ipython",
        "version": 3
      },
      "file_extension": ".py",
      "mimetype": "text/x-python",
      "name": "python",
      "nbconvert_exporter": "python",
      "pygments_lexer": "ipython3",
      "version": "3.6.3"
    },
    "colab": {
      "name": "Hotel customer comments analysis.ipynb",
      "provenance": [],
      "collapsed_sections": []
    }
  },
  "cells": [
    {
      "cell_type": "markdown",
      "metadata": {
        "id": "7BRvbQNKZFeV",
        "colab_type": "text"
      },
      "source": [
        "# Hotel customer comments analysis"
      ]
    },
    {
      "cell_type": "markdown",
      "metadata": {
        "id": "jaeG7TWvaY5Z",
        "colab_type": "text"
      },
      "source": [
        "## Import library"
      ]
    },
    {
      "cell_type": "code",
      "metadata": {
        "id": "mqsiDRqRZFeX",
        "colab_type": "code",
        "colab": {}
      },
      "source": [
        "import matplotlib.pyplot as plt\n",
        "import seaborn as sns\n",
        "%matplotlib inline\n",
        "import math\n",
        "import pandas as pd\n",
        "import numpy as np\n",
        "from tqdm import tqdm\n",
        "from collections import Counter\n",
        "import operator\n",
        "import re\n",
        "import nltk\n",
        "from nltk.sentiment import SentimentAnalyzer\n",
        "from nltk.sentiment.vader import SentimentIntensityAnalyzer\n",
        "from nltk.sentiment.util import *\n",
        "from nltk import tokenize\n",
        "from nltk.corpus import stopwords\n",
        "from nltk.tag import PerceptronTagger\n",
        "from nltk.data import find\n",
        "import sklearn\n",
        "import sklearn.metrics as metrics"
      ],
      "execution_count": 0,
      "outputs": []
    },
    {
      "cell_type": "markdown",
      "metadata": {
        "id": "wPXx3GYfZFeb",
        "colab_type": "text"
      },
      "source": [
        "## Data overview"
      ]
    },
    {
      "cell_type": "markdown",
      "metadata": {
        "id": "W1N8O-SKZFeb",
        "colab_type": "text"
      },
      "source": [
        "I crawl a specific dataset for hotels reviews on Tripadvisor in Calgary, Canada. I used a tool called Tripadvisor Crawler. It is a very handy tool, however, it is a little bit unstable.\n",
        "\n",
        "In this project we also familiarize ourselves with the nltk library and an nltk sentiment analysis package called Vader.\n",
        "\n",
        "Reference: https://github.com/aesuli/trip-advisor-crawler."
      ]
    },
    {
      "cell_type": "code",
      "metadata": {
        "id": "HAJTZODBZFec",
        "colab_type": "code",
        "colab": {},
        "outputId": "179f8d5f-4180-4a7c-a334-68fdb3a37157"
      },
      "source": [
        "hotelDf = pd.read_csv('reviews.csv', header = None)\n",
        "# if not indicate 'header = None', it will skip the first line not reading\n",
        "hotelDf.columns=['idNum','filePath','hotelName','reviewColumn','ratingScore','groundTruth']\n",
        "hotelDf.head()"
      ],
      "execution_count": 0,
      "outputs": [
        {
          "output_type": "execute_result",
          "data": {
            "text/html": [
              "<div>\n",
              "<style scoped>\n",
              "    .dataframe tbody tr th:only-of-type {\n",
              "        vertical-align: middle;\n",
              "    }\n",
              "\n",
              "    .dataframe tbody tr th {\n",
              "        vertical-align: top;\n",
              "    }\n",
              "\n",
              "    .dataframe thead th {\n",
              "        text-align: right;\n",
              "    }\n",
              "</style>\n",
              "<table border=\"1\" class=\"dataframe\">\n",
              "  <thead>\n",
              "    <tr style=\"text-align: right;\">\n",
              "      <th></th>\n",
              "      <th>idNum</th>\n",
              "      <th>filePath</th>\n",
              "      <th>hotelName</th>\n",
              "      <th>reviewColumn</th>\n",
              "      <th>ratingScore</th>\n",
              "      <th>groundTruth</th>\n",
              "    </tr>\n",
              "  </thead>\n",
              "  <tbody>\n",
              "    <tr>\n",
              "      <th>0</th>\n",
              "      <td>516719059</td>\n",
              "      <td>data4\\ca\\154913\\10259142\\516733311.html</td>\n",
              "      <td>Element Calgary Airport</td>\n",
              "      <td>Arrived to check into a King Executive Suite A...</td>\n",
              "      <td>2</td>\n",
              "      <td>negative</td>\n",
              "    </tr>\n",
              "    <tr>\n",
              "      <th>1</th>\n",
              "      <td>531560410</td>\n",
              "      <td>data4\\ca\\154913\\10259142\\535933244.html</td>\n",
              "      <td>Element Calgary Airport</td>\n",
              "      <td>I really enjoyed my stay here. The room had a ...</td>\n",
              "      <td>5</td>\n",
              "      <td>positive</td>\n",
              "    </tr>\n",
              "    <tr>\n",
              "      <th>2</th>\n",
              "      <td>535933244</td>\n",
              "      <td>data4\\ca\\154913\\10259142\\537074672.html</td>\n",
              "      <td>Element Calgary Airport</td>\n",
              "      <td>We stayed one night in this new hotel and it's...</td>\n",
              "      <td>5</td>\n",
              "      <td>positive</td>\n",
              "    </tr>\n",
              "    <tr>\n",
              "      <th>3</th>\n",
              "      <td>537074672</td>\n",
              "      <td>data4\\ca\\154913\\10259142\\538137131.html</td>\n",
              "      <td>Element Calgary Airport</td>\n",
              "      <td>Stayed at this hotel for business trip purpose...</td>\n",
              "      <td>5</td>\n",
              "      <td>positive</td>\n",
              "    </tr>\n",
              "    <tr>\n",
              "      <th>4</th>\n",
              "      <td>538137131</td>\n",
              "      <td>data4\\ca\\154913\\10259142\\540014523.html</td>\n",
              "      <td>Element Calgary Airport</td>\n",
              "      <td>Very clean. Modern and bright. GREAT mattress ...</td>\n",
              "      <td>4</td>\n",
              "      <td>positive</td>\n",
              "    </tr>\n",
              "  </tbody>\n",
              "</table>\n",
              "</div>"
            ],
            "text/plain": [
              "       idNum                                 filePath  \\\n",
              "0  516719059  data4\\ca\\154913\\10259142\\516733311.html   \n",
              "1  531560410  data4\\ca\\154913\\10259142\\535933244.html   \n",
              "2  535933244  data4\\ca\\154913\\10259142\\537074672.html   \n",
              "3  537074672  data4\\ca\\154913\\10259142\\538137131.html   \n",
              "4  538137131  data4\\ca\\154913\\10259142\\540014523.html   \n",
              "\n",
              "                 hotelName                                       reviewColumn  \\\n",
              "0  Element Calgary Airport  Arrived to check into a King Executive Suite A...   \n",
              "1  Element Calgary Airport  I really enjoyed my stay here. The room had a ...   \n",
              "2  Element Calgary Airport  We stayed one night in this new hotel and it's...   \n",
              "3  Element Calgary Airport  Stayed at this hotel for business trip purpose...   \n",
              "4  Element Calgary Airport  Very clean. Modern and bright. GREAT mattress ...   \n",
              "\n",
              "   ratingScore groundTruth  \n",
              "0            2    negative  \n",
              "1            5    positive  \n",
              "2            5    positive  \n",
              "3            5    positive  \n",
              "4            4    positive  "
            ]
          },
          "metadata": {
            "tags": []
          },
          "execution_count": 2
        }
      ]
    },
    {
      "cell_type": "code",
      "metadata": {
        "id": "SA313ImUZFeh",
        "colab_type": "code",
        "colab": {},
        "outputId": "65289503-c532-4caf-d22a-c2318816de1a"
      },
      "source": [
        "hotelDf.shape"
      ],
      "execution_count": 0,
      "outputs": [
        {
          "output_type": "execute_result",
          "data": {
            "text/plain": [
              "(3612, 6)"
            ]
          },
          "metadata": {
            "tags": []
          },
          "execution_count": 3
        }
      ]
    },
    {
      "cell_type": "code",
      "metadata": {
        "id": "UhC-k1CfZFek",
        "colab_type": "code",
        "colab": {}
      },
      "source": [
        "# if wanna compute the avg of the star rating, binarize it to like = 1 (rating = 4,5) and dislike = 0 (rating = 1,2,3)\n",
        "hotelDF = hotelDf.copy()\n",
        "hotelDF['ratingScore'] = hotelDf['ratingScore'].map(lambda x: 1 if x>3 else 0)"
      ],
      "execution_count": 0,
      "outputs": []
    },
    {
      "cell_type": "code",
      "metadata": {
        "id": "YYfrXX8KZFen",
        "colab_type": "code",
        "colab": {}
      },
      "source": [
        "# method2 - easier\n",
        "# http://pandas.pydata.org/pandas-docs/stable/reference/api/pandas.DataFrame.replace.html\n",
        "# hotelDf_new = hotelDf.replace({[4,5]: 1, [1,2,3]: 0})"
      ],
      "execution_count": 0,
      "outputs": []
    },
    {
      "cell_type": "code",
      "metadata": {
        "id": "NyQ3hciXZFeq",
        "colab_type": "code",
        "colab": {},
        "outputId": "82ed7c38-93f4-42c1-b46c-b80f1806747b"
      },
      "source": [
        "# after running Vader, there is a bug: 'float' object has no attribute 'encode'\n",
        "# that means my data (reviews column) has null values, which leading to treating nan as float\n",
        "# so we need to analyse and drop all the null values\n",
        "hotelDf['reviewColumn'].isnull().sum()"
      ],
      "execution_count": 0,
      "outputs": [
        {
          "output_type": "execute_result",
          "data": {
            "text/plain": [
              "193"
            ]
          },
          "metadata": {
            "tags": []
          },
          "execution_count": 6
        }
      ]
    },
    {
      "cell_type": "code",
      "metadata": {
        "id": "0sEd6SaAZFet",
        "colab_type": "code",
        "colab": {}
      },
      "source": [
        "hotelDF = hotelDF.dropna()"
      ],
      "execution_count": 0,
      "outputs": []
    },
    {
      "cell_type": "code",
      "metadata": {
        "id": "wUD5bxHyZFew",
        "colab_type": "code",
        "colab": {}
      },
      "source": [
        "# this step is to deal with the problem that index of new df after drop nan different with review vader df index\n",
        "# because after drop null, the index is removed\n",
        "# but the vader sentiment score df is normal df, index from 0 to last, none index empty\n",
        "# if not adjust the orignal df index, the \n",
        "hotelDF = hotelDF.reset_index()\n",
        "hotelDF = hotelDF.drop(columns = ['index'])\n",
        "# or a better method:\n",
        "# https://stackoverflow.com/questions/40755680/how-to-reset-index-pandas-dataframe-after-dropna-pandas-dataframe"
      ],
      "execution_count": 0,
      "outputs": []
    },
    {
      "cell_type": "code",
      "metadata": {
        "id": "NfDIML8aZFez",
        "colab_type": "code",
        "colab": {},
        "outputId": "0300c837-e455-43e4-f925-8f27e67f1bb0"
      },
      "source": [
        "hotelDF.head()"
      ],
      "execution_count": 0,
      "outputs": [
        {
          "output_type": "execute_result",
          "data": {
            "text/html": [
              "<div>\n",
              "<style scoped>\n",
              "    .dataframe tbody tr th:only-of-type {\n",
              "        vertical-align: middle;\n",
              "    }\n",
              "\n",
              "    .dataframe tbody tr th {\n",
              "        vertical-align: top;\n",
              "    }\n",
              "\n",
              "    .dataframe thead th {\n",
              "        text-align: right;\n",
              "    }\n",
              "</style>\n",
              "<table border=\"1\" class=\"dataframe\">\n",
              "  <thead>\n",
              "    <tr style=\"text-align: right;\">\n",
              "      <th></th>\n",
              "      <th>idNum</th>\n",
              "      <th>filePath</th>\n",
              "      <th>hotelName</th>\n",
              "      <th>reviewColumn</th>\n",
              "      <th>ratingScore</th>\n",
              "      <th>groundTruth</th>\n",
              "    </tr>\n",
              "  </thead>\n",
              "  <tbody>\n",
              "    <tr>\n",
              "      <th>0</th>\n",
              "      <td>516719059</td>\n",
              "      <td>data4\\ca\\154913\\10259142\\516733311.html</td>\n",
              "      <td>Element Calgary Airport</td>\n",
              "      <td>Arrived to check into a King Executive Suite A...</td>\n",
              "      <td>0</td>\n",
              "      <td>negative</td>\n",
              "    </tr>\n",
              "    <tr>\n",
              "      <th>1</th>\n",
              "      <td>531560410</td>\n",
              "      <td>data4\\ca\\154913\\10259142\\535933244.html</td>\n",
              "      <td>Element Calgary Airport</td>\n",
              "      <td>I really enjoyed my stay here. The room had a ...</td>\n",
              "      <td>1</td>\n",
              "      <td>positive</td>\n",
              "    </tr>\n",
              "    <tr>\n",
              "      <th>2</th>\n",
              "      <td>535933244</td>\n",
              "      <td>data4\\ca\\154913\\10259142\\537074672.html</td>\n",
              "      <td>Element Calgary Airport</td>\n",
              "      <td>We stayed one night in this new hotel and it's...</td>\n",
              "      <td>1</td>\n",
              "      <td>positive</td>\n",
              "    </tr>\n",
              "    <tr>\n",
              "      <th>3</th>\n",
              "      <td>537074672</td>\n",
              "      <td>data4\\ca\\154913\\10259142\\538137131.html</td>\n",
              "      <td>Element Calgary Airport</td>\n",
              "      <td>Stayed at this hotel for business trip purpose...</td>\n",
              "      <td>1</td>\n",
              "      <td>positive</td>\n",
              "    </tr>\n",
              "    <tr>\n",
              "      <th>4</th>\n",
              "      <td>538137131</td>\n",
              "      <td>data4\\ca\\154913\\10259142\\540014523.html</td>\n",
              "      <td>Element Calgary Airport</td>\n",
              "      <td>Very clean. Modern and bright. GREAT mattress ...</td>\n",
              "      <td>1</td>\n",
              "      <td>positive</td>\n",
              "    </tr>\n",
              "  </tbody>\n",
              "</table>\n",
              "</div>"
            ],
            "text/plain": [
              "       idNum                                 filePath  \\\n",
              "0  516719059  data4\\ca\\154913\\10259142\\516733311.html   \n",
              "1  531560410  data4\\ca\\154913\\10259142\\535933244.html   \n",
              "2  535933244  data4\\ca\\154913\\10259142\\537074672.html   \n",
              "3  537074672  data4\\ca\\154913\\10259142\\538137131.html   \n",
              "4  538137131  data4\\ca\\154913\\10259142\\540014523.html   \n",
              "\n",
              "                 hotelName                                       reviewColumn  \\\n",
              "0  Element Calgary Airport  Arrived to check into a King Executive Suite A...   \n",
              "1  Element Calgary Airport  I really enjoyed my stay here. The room had a ...   \n",
              "2  Element Calgary Airport  We stayed one night in this new hotel and it's...   \n",
              "3  Element Calgary Airport  Stayed at this hotel for business trip purpose...   \n",
              "4  Element Calgary Airport  Very clean. Modern and bright. GREAT mattress ...   \n",
              "\n",
              "   ratingScore groundTruth  \n",
              "0            0    negative  \n",
              "1            1    positive  \n",
              "2            1    positive  \n",
              "3            1    positive  \n",
              "4            1    positive  "
            ]
          },
          "metadata": {
            "tags": []
          },
          "execution_count": 9
        }
      ]
    },
    {
      "cell_type": "markdown",
      "metadata": {
        "id": "yXWCIsQofenn",
        "colab_type": "text"
      },
      "source": [
        "## Sentiment analysis"
      ]
    },
    {
      "cell_type": "markdown",
      "metadata": {
        "id": "Yi5PpNPfflZ_",
        "colab_type": "text"
      },
      "source": [
        "Compute average Vader sentiment and average ground truth rating per hotel.\n",
        "\n",
        "Rank hotels by avg ground-truth sentiment and avg Vader sentiment score."
      ]
    },
    {
      "cell_type": "code",
      "metadata": {
        "id": "WfEu3PZuZFe3",
        "colab_type": "code",
        "colab": {}
      },
      "source": [
        "# To compute avg Vader sentiment, we should first compute the Vader score for each review\n",
        "# Use vader to evaluated sentiment of reviews\n",
        "def evalSentences(sentences, to_df=True, columns=[]):\n",
        "    #Instantiate an instance to access SentimentIntensityAnalyzer class\n",
        "    sid = SentimentIntensityAnalyzer()\n",
        "    pdlist = []\n",
        "    # process bar for better tracking\n",
        "    for sentence in tqdm(sentences):\n",
        "        ss = sid.polarity_scores(sentence)\n",
        "        pdlist.append([sentence]+[ss['compound']]) # only get the compound score,\n",
        "        # there are other scores, called neutral and negative and positive\n",
        "    reviewDf = pd.DataFrame(pdlist)\n",
        "    reviewDf.columns = columns\n",
        "    return reviewDf"
      ],
      "execution_count": 0,
      "outputs": []
    },
    {
      "cell_type": "code",
      "metadata": {
        "id": "jGoipK1qZFe7",
        "colab_type": "code",
        "colab": {},
        "outputId": "d440303c-02cb-4591-a2ff-1da3de8e216c"
      },
      "source": [
        "reviews = hotelDF['reviewColumn'].values\n",
        "reviewDF = evalSentences(reviews, to_df=True, columns=['Review','VaderScore'])\n",
        "reviewDF.head()"
      ],
      "execution_count": 0,
      "outputs": [
        {
          "output_type": "stream",
          "text": [
            "100%|██████████| 3419/3419 [00:04<00:00, 770.39it/s]\n"
          ],
          "name": "stderr"
        },
        {
          "output_type": "execute_result",
          "data": {
            "text/html": [
              "<div>\n",
              "<style scoped>\n",
              "    .dataframe tbody tr th:only-of-type {\n",
              "        vertical-align: middle;\n",
              "    }\n",
              "\n",
              "    .dataframe tbody tr th {\n",
              "        vertical-align: top;\n",
              "    }\n",
              "\n",
              "    .dataframe thead th {\n",
              "        text-align: right;\n",
              "    }\n",
              "</style>\n",
              "<table border=\"1\" class=\"dataframe\">\n",
              "  <thead>\n",
              "    <tr style=\"text-align: right;\">\n",
              "      <th></th>\n",
              "      <th>Review</th>\n",
              "      <th>VaderScore</th>\n",
              "    </tr>\n",
              "  </thead>\n",
              "  <tbody>\n",
              "    <tr>\n",
              "      <th>0</th>\n",
              "      <td>Arrived to check into a King Executive Suite A...</td>\n",
              "      <td>0.2413</td>\n",
              "    </tr>\n",
              "    <tr>\n",
              "      <th>1</th>\n",
              "      <td>I really enjoyed my stay here. The room had a ...</td>\n",
              "      <td>0.9701</td>\n",
              "    </tr>\n",
              "    <tr>\n",
              "      <th>2</th>\n",
              "      <td>We stayed one night in this new hotel and it's...</td>\n",
              "      <td>0.9939</td>\n",
              "    </tr>\n",
              "    <tr>\n",
              "      <th>3</th>\n",
              "      <td>Stayed at this hotel for business trip purpose...</td>\n",
              "      <td>0.9530</td>\n",
              "    </tr>\n",
              "    <tr>\n",
              "      <th>4</th>\n",
              "      <td>Very clean. Modern and bright. GREAT mattress ...</td>\n",
              "      <td>0.9090</td>\n",
              "    </tr>\n",
              "  </tbody>\n",
              "</table>\n",
              "</div>"
            ],
            "text/plain": [
              "                                              Review  VaderScore\n",
              "0  Arrived to check into a King Executive Suite A...      0.2413\n",
              "1  I really enjoyed my stay here. The room had a ...      0.9701\n",
              "2  We stayed one night in this new hotel and it's...      0.9939\n",
              "3  Stayed at this hotel for business trip purpose...      0.9530\n",
              "4  Very clean. Modern and bright. GREAT mattress ...      0.9090"
            ]
          },
          "metadata": {
            "tags": []
          },
          "execution_count": 11
        }
      ]
    },
    {
      "cell_type": "code",
      "metadata": {
        "id": "AXbzTBkfZFe-",
        "colab_type": "code",
        "colab": {}
      },
      "source": [
        "newdf = hotelDF[['hotelName','ratingScore', 'groundTruth']].join(reviewDF)"
      ],
      "execution_count": 0,
      "outputs": []
    },
    {
      "cell_type": "code",
      "metadata": {
        "id": "eIZ0vB06ZFfB",
        "colab_type": "code",
        "colab": {},
        "outputId": "5d49fb67-ed94-4ae4-e999-a0095d3d4473"
      },
      "source": [
        "newdf.head()"
      ],
      "execution_count": 0,
      "outputs": [
        {
          "output_type": "execute_result",
          "data": {
            "text/html": [
              "<div>\n",
              "<style scoped>\n",
              "    .dataframe tbody tr th:only-of-type {\n",
              "        vertical-align: middle;\n",
              "    }\n",
              "\n",
              "    .dataframe tbody tr th {\n",
              "        vertical-align: top;\n",
              "    }\n",
              "\n",
              "    .dataframe thead th {\n",
              "        text-align: right;\n",
              "    }\n",
              "</style>\n",
              "<table border=\"1\" class=\"dataframe\">\n",
              "  <thead>\n",
              "    <tr style=\"text-align: right;\">\n",
              "      <th></th>\n",
              "      <th>hotelName</th>\n",
              "      <th>ratingScore</th>\n",
              "      <th>groundTruth</th>\n",
              "      <th>Review</th>\n",
              "      <th>VaderScore</th>\n",
              "    </tr>\n",
              "  </thead>\n",
              "  <tbody>\n",
              "    <tr>\n",
              "      <th>0</th>\n",
              "      <td>Element Calgary Airport</td>\n",
              "      <td>0</td>\n",
              "      <td>negative</td>\n",
              "      <td>Arrived to check into a King Executive Suite A...</td>\n",
              "      <td>0.2413</td>\n",
              "    </tr>\n",
              "    <tr>\n",
              "      <th>1</th>\n",
              "      <td>Element Calgary Airport</td>\n",
              "      <td>1</td>\n",
              "      <td>positive</td>\n",
              "      <td>I really enjoyed my stay here. The room had a ...</td>\n",
              "      <td>0.9701</td>\n",
              "    </tr>\n",
              "    <tr>\n",
              "      <th>2</th>\n",
              "      <td>Element Calgary Airport</td>\n",
              "      <td>1</td>\n",
              "      <td>positive</td>\n",
              "      <td>We stayed one night in this new hotel and it's...</td>\n",
              "      <td>0.9939</td>\n",
              "    </tr>\n",
              "    <tr>\n",
              "      <th>3</th>\n",
              "      <td>Element Calgary Airport</td>\n",
              "      <td>1</td>\n",
              "      <td>positive</td>\n",
              "      <td>Stayed at this hotel for business trip purpose...</td>\n",
              "      <td>0.9530</td>\n",
              "    </tr>\n",
              "    <tr>\n",
              "      <th>4</th>\n",
              "      <td>Element Calgary Airport</td>\n",
              "      <td>1</td>\n",
              "      <td>positive</td>\n",
              "      <td>Very clean. Modern and bright. GREAT mattress ...</td>\n",
              "      <td>0.9090</td>\n",
              "    </tr>\n",
              "  </tbody>\n",
              "</table>\n",
              "</div>"
            ],
            "text/plain": [
              "                 hotelName  ratingScore groundTruth  \\\n",
              "0  Element Calgary Airport            0    negative   \n",
              "1  Element Calgary Airport            1    positive   \n",
              "2  Element Calgary Airport            1    positive   \n",
              "3  Element Calgary Airport            1    positive   \n",
              "4  Element Calgary Airport            1    positive   \n",
              "\n",
              "                                              Review  VaderScore  \n",
              "0  Arrived to check into a King Executive Suite A...      0.2413  \n",
              "1  I really enjoyed my stay here. The room had a ...      0.9701  \n",
              "2  We stayed one night in this new hotel and it's...      0.9939  \n",
              "3  Stayed at this hotel for business trip purpose...      0.9530  \n",
              "4  Very clean. Modern and bright. GREAT mattress ...      0.9090  "
            ]
          },
          "metadata": {
            "tags": []
          },
          "execution_count": 13
        }
      ]
    },
    {
      "cell_type": "code",
      "metadata": {
        "id": "o5q0v9wlZFfE",
        "colab_type": "code",
        "colab": {}
      },
      "source": [
        "hotelnames = newdf['hotelName'].unique()"
      ],
      "execution_count": 0,
      "outputs": []
    },
    {
      "cell_type": "code",
      "metadata": {
        "id": "kL3yKXq6ZFfG",
        "colab_type": "code",
        "colab": {},
        "outputId": "6384da32-a69d-4898-c9f6-7dedf4dd5627"
      },
      "source": [
        "len(hotelnames)"
      ],
      "execution_count": 0,
      "outputs": [
        {
          "output_type": "execute_result",
          "data": {
            "text/plain": [
              "70"
            ]
          },
          "metadata": {
            "tags": []
          },
          "execution_count": 15
        }
      ]
    },
    {
      "cell_type": "markdown",
      "metadata": {
        "id": "FdJkSFAPg6yC",
        "colab_type": "text"
      },
      "source": [
        "### Top and bottom 5 hotels ranked by Vader score"
      ]
    },
    {
      "cell_type": "code",
      "metadata": {
        "id": "LsUTvDZuZFfK",
        "colab_type": "code",
        "colab": {}
      },
      "source": [
        "def getHotelRank(df, measure):# the argument can be only df, then the measure is default, which is vader score\n",
        "    # measure is an argument, but it has default value, you can even not set this argument, but df is the argument you must define\n",
        "    hotelRating = []\n",
        "    for hotel in hotelnames:\n",
        "        itemDf = df.loc[df['hotelName']==hotel]\n",
        "        hotelRating.append([hotel,itemDf[measure].mean()])\n",
        "    hotelRatingDf = pd.DataFrame(hotelRating)\n",
        "    if measure == 'VaderScore':\n",
        "        hotelRatingDf.columns=['hotelName','avg vader score']\n",
        "        hotelRatingDf = hotelRatingDf.sort_values('avg vader score',ascending=0)\n",
        "    else:\n",
        "        hotelRatingDf.columns=['hotelName','avg GT sentiment']\n",
        "        hotelRatingDf = hotelRatingDf.sort_values('avg GT sentiment',ascending=0)\n",
        "    return hotelRatingDf"
      ],
      "execution_count": 0,
      "outputs": []
    },
    {
      "cell_type": "code",
      "metadata": {
        "id": "CR2DH1AUZFfN",
        "colab_type": "code",
        "colab": {}
      },
      "source": [
        "RatingDf_Vader = getHotelRank(newdf, measure = 'VaderScore')"
      ],
      "execution_count": 0,
      "outputs": []
    },
    {
      "cell_type": "code",
      "metadata": {
        "id": "DQNPdVq7ZFfP",
        "colab_type": "code",
        "colab": {},
        "outputId": "222e732b-b1ef-4975-dc2d-528f6383d645"
      },
      "source": [
        "RatingDf_Vader.head()"
      ],
      "execution_count": 0,
      "outputs": [
        {
          "output_type": "execute_result",
          "data": {
            "text/html": [
              "<div>\n",
              "<style scoped>\n",
              "    .dataframe tbody tr th:only-of-type {\n",
              "        vertical-align: middle;\n",
              "    }\n",
              "\n",
              "    .dataframe tbody tr th {\n",
              "        vertical-align: top;\n",
              "    }\n",
              "\n",
              "    .dataframe thead th {\n",
              "        text-align: right;\n",
              "    }\n",
              "</style>\n",
              "<table border=\"1\" class=\"dataframe\">\n",
              "  <thead>\n",
              "    <tr style=\"text-align: right;\">\n",
              "      <th></th>\n",
              "      <th>hotelName</th>\n",
              "      <th>avg vader score</th>\n",
              "    </tr>\n",
              "  </thead>\n",
              "  <tbody>\n",
              "    <tr>\n",
              "      <th>28</th>\n",
              "      <td>Sheraton Cavalier Hotel</td>\n",
              "      <td>0.962738</td>\n",
              "    </tr>\n",
              "    <tr>\n",
              "      <th>58</th>\n",
              "      <td>Residence Inn by Marriott Calgary Airport</td>\n",
              "      <td>0.943847</td>\n",
              "    </tr>\n",
              "    <tr>\n",
              "      <th>57</th>\n",
              "      <td>Wingate by Wyndham Calgary South</td>\n",
              "      <td>0.939400</td>\n",
              "    </tr>\n",
              "    <tr>\n",
              "      <th>63</th>\n",
              "      <td>Hotel Elan</td>\n",
              "      <td>0.934190</td>\n",
              "    </tr>\n",
              "    <tr>\n",
              "      <th>19</th>\n",
              "      <td>Hotel Blackfoot</td>\n",
              "      <td>0.926029</td>\n",
              "    </tr>\n",
              "  </tbody>\n",
              "</table>\n",
              "</div>"
            ],
            "text/plain": [
              "                                    hotelName  avg vader score\n",
              "28                    Sheraton Cavalier Hotel         0.962738\n",
              "58  Residence Inn by Marriott Calgary Airport         0.943847\n",
              "57           Wingate by Wyndham Calgary South         0.939400\n",
              "63                                 Hotel Elan         0.934190\n",
              "19                            Hotel Blackfoot         0.926029"
            ]
          },
          "metadata": {
            "tags": []
          },
          "execution_count": 18
        }
      ]
    },
    {
      "cell_type": "code",
      "metadata": {
        "id": "9MqvXUJmZFfS",
        "colab_type": "code",
        "colab": {},
        "outputId": "00e432d1-fe82-42c9-c4a5-8702159fd9f8"
      },
      "source": [
        "RatingDf_Vader.tail()"
      ],
      "execution_count": 0,
      "outputs": [
        {
          "output_type": "execute_result",
          "data": {
            "text/html": [
              "<div>\n",
              "<style scoped>\n",
              "    .dataframe tbody tr th:only-of-type {\n",
              "        vertical-align: middle;\n",
              "    }\n",
              "\n",
              "    .dataframe tbody tr th {\n",
              "        vertical-align: top;\n",
              "    }\n",
              "\n",
              "    .dataframe thead th {\n",
              "        text-align: right;\n",
              "    }\n",
              "</style>\n",
              "<table border=\"1\" class=\"dataframe\">\n",
              "  <thead>\n",
              "    <tr style=\"text-align: right;\">\n",
              "      <th></th>\n",
              "      <th>hotelName</th>\n",
              "      <th>avg vader score</th>\n",
              "    </tr>\n",
              "  </thead>\n",
              "  <tbody>\n",
              "    <tr>\n",
              "      <th>50</th>\n",
              "      <td>Travelodge Hotel Calgary International Airport...</td>\n",
              "      <td>0.176817</td>\n",
              "    </tr>\n",
              "    <tr>\n",
              "      <th>24</th>\n",
              "      <td>Canadas Best Value Inn Chinook Station</td>\n",
              "      <td>0.173055</td>\n",
              "    </tr>\n",
              "    <tr>\n",
              "      <th>21</th>\n",
              "      <td>Coast Plaza Hotel &amp; Conference Centre</td>\n",
              "      <td>0.114662</td>\n",
              "    </tr>\n",
              "    <tr>\n",
              "      <th>45</th>\n",
              "      <td>Ramada Limited Calgary Northwest</td>\n",
              "      <td>-0.127771</td>\n",
              "    </tr>\n",
              "    <tr>\n",
              "      <th>51</th>\n",
              "      <td>Travelodge Hotel Calgary Macleod Trail</td>\n",
              "      <td>-0.140524</td>\n",
              "    </tr>\n",
              "  </tbody>\n",
              "</table>\n",
              "</div>"
            ],
            "text/plain": [
              "                                            hotelName  avg vader score\n",
              "50  Travelodge Hotel Calgary International Airport...         0.176817\n",
              "24             Canadas Best Value Inn Chinook Station         0.173055\n",
              "21              Coast Plaza Hotel & Conference Centre         0.114662\n",
              "45                   Ramada Limited Calgary Northwest        -0.127771\n",
              "51             Travelodge Hotel Calgary Macleod Trail        -0.140524"
            ]
          },
          "metadata": {
            "tags": []
          },
          "execution_count": 19
        }
      ]
    },
    {
      "cell_type": "markdown",
      "metadata": {
        "id": "JHhw9gYQhIph",
        "colab_type": "text"
      },
      "source": [
        "### Top and bottom 5 hotels ranked by rating score"
      ]
    },
    {
      "cell_type": "code",
      "metadata": {
        "id": "Xw0-vHJtZFfV",
        "colab_type": "code",
        "colab": {}
      },
      "source": [
        "RatingDf_GT = getHotelRank(newdf, measure = 'ratingScore')"
      ],
      "execution_count": 0,
      "outputs": []
    },
    {
      "cell_type": "code",
      "metadata": {
        "id": "hHC95djnZFfX",
        "colab_type": "code",
        "colab": {},
        "outputId": "87efa7a7-df2d-4c90-cbfd-baa373a54864"
      },
      "source": [
        "RatingDf_GT.head()"
      ],
      "execution_count": 0,
      "outputs": [
        {
          "output_type": "execute_result",
          "data": {
            "text/html": [
              "<div>\n",
              "<style scoped>\n",
              "    .dataframe tbody tr th:only-of-type {\n",
              "        vertical-align: middle;\n",
              "    }\n",
              "\n",
              "    .dataframe tbody tr th {\n",
              "        vertical-align: top;\n",
              "    }\n",
              "\n",
              "    .dataframe thead th {\n",
              "        text-align: right;\n",
              "    }\n",
              "</style>\n",
              "<table border=\"1\" class=\"dataframe\">\n",
              "  <thead>\n",
              "    <tr style=\"text-align: right;\">\n",
              "      <th></th>\n",
              "      <th>hotelName</th>\n",
              "      <th>avg GT sentiment</th>\n",
              "    </tr>\n",
              "  </thead>\n",
              "  <tbody>\n",
              "    <tr>\n",
              "      <th>58</th>\n",
              "      <td>Residence Inn by Marriott Calgary Airport</td>\n",
              "      <td>1.0</td>\n",
              "    </tr>\n",
              "    <tr>\n",
              "      <th>57</th>\n",
              "      <td>Wingate by Wyndham Calgary South</td>\n",
              "      <td>1.0</td>\n",
              "    </tr>\n",
              "    <tr>\n",
              "      <th>43</th>\n",
              "      <td>Calgary Marriott Downtown Hotel</td>\n",
              "      <td>1.0</td>\n",
              "    </tr>\n",
              "    <tr>\n",
              "      <th>59</th>\n",
              "      <td>Courtyard by Marriott Calgary Airport</td>\n",
              "      <td>1.0</td>\n",
              "    </tr>\n",
              "    <tr>\n",
              "      <th>63</th>\n",
              "      <td>Hotel Elan</td>\n",
              "      <td>1.0</td>\n",
              "    </tr>\n",
              "  </tbody>\n",
              "</table>\n",
              "</div>"
            ],
            "text/plain": [
              "                                    hotelName  avg GT sentiment\n",
              "58  Residence Inn by Marriott Calgary Airport               1.0\n",
              "57           Wingate by Wyndham Calgary South               1.0\n",
              "43            Calgary Marriott Downtown Hotel               1.0\n",
              "59      Courtyard by Marriott Calgary Airport               1.0\n",
              "63                                 Hotel Elan               1.0"
            ]
          },
          "metadata": {
            "tags": []
          },
          "execution_count": 21
        }
      ]
    },
    {
      "cell_type": "code",
      "metadata": {
        "id": "Xi0-1MdbZFfa",
        "colab_type": "code",
        "colab": {},
        "outputId": "141ceeda-e0da-4a80-96d8-9415359c8800"
      },
      "source": [
        "RatingDf_GT.tail()"
      ],
      "execution_count": 0,
      "outputs": [
        {
          "output_type": "execute_result",
          "data": {
            "text/html": [
              "<div>\n",
              "<style scoped>\n",
              "    .dataframe tbody tr th:only-of-type {\n",
              "        vertical-align: middle;\n",
              "    }\n",
              "\n",
              "    .dataframe tbody tr th {\n",
              "        vertical-align: top;\n",
              "    }\n",
              "\n",
              "    .dataframe thead th {\n",
              "        text-align: right;\n",
              "    }\n",
              "</style>\n",
              "<table border=\"1\" class=\"dataframe\">\n",
              "  <thead>\n",
              "    <tr style=\"text-align: right;\">\n",
              "      <th></th>\n",
              "      <th>hotelName</th>\n",
              "      <th>avg GT sentiment</th>\n",
              "    </tr>\n",
              "  </thead>\n",
              "  <tbody>\n",
              "    <tr>\n",
              "      <th>23</th>\n",
              "      <td>Econo Lodge Motel Village</td>\n",
              "      <td>0.200000</td>\n",
              "    </tr>\n",
              "    <tr>\n",
              "      <th>46</th>\n",
              "      <td>Super 8 Village Calgary AB</td>\n",
              "      <td>0.185185</td>\n",
              "    </tr>\n",
              "    <tr>\n",
              "      <th>51</th>\n",
              "      <td>Travelodge Hotel Calgary Macleod Trail</td>\n",
              "      <td>0.103448</td>\n",
              "    </tr>\n",
              "    <tr>\n",
              "      <th>50</th>\n",
              "      <td>Travelodge Hotel Calgary International Airport...</td>\n",
              "      <td>0.096154</td>\n",
              "    </tr>\n",
              "    <tr>\n",
              "      <th>45</th>\n",
              "      <td>Ramada Limited Calgary Northwest</td>\n",
              "      <td>0.041667</td>\n",
              "    </tr>\n",
              "  </tbody>\n",
              "</table>\n",
              "</div>"
            ],
            "text/plain": [
              "                                            hotelName  avg GT sentiment\n",
              "23                          Econo Lodge Motel Village          0.200000\n",
              "46                         Super 8 Village Calgary AB          0.185185\n",
              "51             Travelodge Hotel Calgary Macleod Trail          0.103448\n",
              "50  Travelodge Hotel Calgary International Airport...          0.096154\n",
              "45                   Ramada Limited Calgary Northwest          0.041667"
            ]
          },
          "metadata": {
            "tags": []
          },
          "execution_count": 22
        }
      ]
    },
    {
      "cell_type": "markdown",
      "metadata": {
        "collapsed": true,
        "id": "a1byFPUFZFfd",
        "colab_type": "text"
      },
      "source": [
        "We can see that for both methods, they are sort of similar, which I aggree:\n",
        "\n",
        "- for top 5: 57, 58, 63th hotels are in the ranking.\n",
        "\n",
        "- for bottom 5: 45, 50, 51th hotels are in the ranking.\n",
        "\n",
        "The interesting finding is that some bottom ranked hotels using vader sentiment did not show in the bottom ranking using ground truth rating, same case for some top ranked hotels.\n",
        "\n",
        "There is a problem to cause less accuracy for ground truth ranking because all the hotels having 1.0 are not actually ranked."
      ]
    },
    {
      "cell_type": "markdown",
      "metadata": {
        "id": "NWuotL6QZFfd",
        "colab_type": "text"
      },
      "source": [
        "## Frequency analysis"
      ]
    },
    {
      "cell_type": "markdown",
      "metadata": {
        "collapsed": true,
        "id": "CXZXI_VCZFfe",
        "colab_type": "text"
      },
      "source": [
        "Use term frequency of the words for (i) positive reviews and (ii) negative with ground truth sentiment to rank the top-50 most frequent non-stopwords in the review collection."
      ]
    },
    {
      "cell_type": "code",
      "metadata": {
        "id": "Qkhjk4hrZFfe",
        "colab_type": "code",
        "colab": {}
      },
      "source": [
        "itemAnalysisDf = hotelDF[['reviewColumn','groundTruth']]"
      ],
      "execution_count": 0,
      "outputs": []
    },
    {
      "cell_type": "code",
      "metadata": {
        "id": "PF-au6AcZFfi",
        "colab_type": "code",
        "colab": {}
      },
      "source": [
        "def getTopK(df, k, label_value, label_column='groundTruth', operation=operator.eq, value_column='reviewColumn'):\n",
        "    stop = set(stopwords.words('english'))\n",
        "    # Add possible Stop Words for Hotel Reviews\n",
        "    # you can add the stop words by yourself\n",
        "    # these words can be frequently appearing in your reviews\n",
        "    stop.add('hotel')\n",
        "    stop.add('room')\n",
        "    stop.add('rooms')\n",
        "    stop.add('stay')\n",
        "    stop.add('stayed')\n",
        "    stop.add('would')\n",
        "    stop.add('get')\n",
        "    stop.add('also')\n",
        "    stop.add('calgary')\n",
        "    stop.add('one')\n",
        "    stop.add('said')\n",
        "    stop.add('could')\n",
        "    counter = Counter()\n",
        "    # same meaning: df[label_column] == label_value\n",
        "    for review in df.loc[operation(df[label_column],label_value)][value_column]:\n",
        "      counter.update([word.lower() \n",
        "                      for word \n",
        "                      in re.findall(r'\\w+', review) \n",
        "                      if word.lower() not in stop and len(word) > 2])\n",
        "    topk = counter.most_common(k)\n",
        "    return topk"
      ],
      "execution_count": 0,
      "outputs": []
    },
    {
      "cell_type": "code",
      "metadata": {
        "id": "lz8zxqf1ZFfl",
        "colab_type": "code",
        "colab": {}
      },
      "source": [
        "topkGroundPos = getTopK(df = itemAnalysisDf, k=50, label_value='positive')"
      ],
      "execution_count": 0,
      "outputs": []
    },
    {
      "cell_type": "code",
      "metadata": {
        "id": "CtbVWshXZFfn",
        "colab_type": "code",
        "colab": {},
        "outputId": "11f83389-8b5e-4fa6-b183-28a6adbc4dde"
      },
      "source": [
        "topkGroundPos"
      ],
      "execution_count": 0,
      "outputs": [
        {
          "output_type": "execute_result",
          "data": {
            "text/plain": [
              "[('staff', 1711),\n",
              " ('great', 1698),\n",
              " ('good', 1315),\n",
              " ('clean', 1153),\n",
              " ('breakfast', 1104),\n",
              " ('nice', 1082),\n",
              " ('friendly', 854),\n",
              " ('service', 853),\n",
              " ('comfortable', 827),\n",
              " ('well', 819),\n",
              " ('location', 713),\n",
              " ('airport', 641),\n",
              " ('pool', 611),\n",
              " ('night', 605),\n",
              " ('helpful', 587),\n",
              " ('downtown', 553),\n",
              " ('restaurant', 548),\n",
              " ('bed', 533),\n",
              " ('area', 512),\n",
              " ('desk', 512),\n",
              " ('front', 510),\n",
              " ('time', 505),\n",
              " ('excellent', 495),\n",
              " ('really', 493),\n",
              " ('free', 483),\n",
              " ('food', 480),\n",
              " ('close', 462),\n",
              " ('parking', 450),\n",
              " ('place', 415),\n",
              " ('beds', 410),\n",
              " ('like', 390),\n",
              " ('check', 386),\n",
              " ('bathroom', 381),\n",
              " ('modern', 365),\n",
              " ('recommend', 359),\n",
              " ('business', 357),\n",
              " ('restaurants', 356),\n",
              " ('large', 347),\n",
              " ('best', 340),\n",
              " ('definitely', 336),\n",
              " ('hot', 334),\n",
              " ('back', 330),\n",
              " ('two', 323),\n",
              " ('quiet', 320),\n",
              " ('spacious', 317),\n",
              " ('everything', 310),\n",
              " ('day', 302),\n",
              " ('always', 301),\n",
              " ('little', 300),\n",
              " ('even', 294)]"
            ]
          },
          "metadata": {
            "tags": []
          },
          "execution_count": 26
        }
      ]
    },
    {
      "cell_type": "code",
      "metadata": {
        "id": "00Ummlm6ZFfp",
        "colab_type": "code",
        "colab": {}
      },
      "source": [
        "topkGroundNeg = getTopK(df = itemAnalysisDf, k=50, label_value='negative')"
      ],
      "execution_count": 0,
      "outputs": []
    },
    {
      "cell_type": "code",
      "metadata": {
        "id": "129XTcABZFfu",
        "colab_type": "code",
        "colab": {},
        "outputId": "10e1ad1d-b03b-48c1-fdd7-7e3981c0acae"
      },
      "source": [
        "topkGroundNeg"
      ],
      "execution_count": 0,
      "outputs": [
        {
          "output_type": "execute_result",
          "data": {
            "text/plain": [
              "[('night', 350),\n",
              " ('staff', 335),\n",
              " ('good', 327),\n",
              " ('desk', 304),\n",
              " ('breakfast', 286),\n",
              " ('front', 272),\n",
              " ('clean', 268),\n",
              " ('bed', 252),\n",
              " ('like', 234),\n",
              " ('even', 218),\n",
              " ('time', 210),\n",
              " ('nice', 208),\n",
              " ('place', 195),\n",
              " ('service', 193),\n",
              " ('location', 175),\n",
              " ('back', 174),\n",
              " ('well', 172),\n",
              " ('great', 171),\n",
              " ('pool', 170),\n",
              " ('check', 167),\n",
              " ('next', 167),\n",
              " ('bathroom', 166),\n",
              " ('got', 164),\n",
              " ('floor', 162),\n",
              " ('told', 160),\n",
              " ('day', 159),\n",
              " ('door', 145),\n",
              " ('booked', 144),\n",
              " ('free', 144),\n",
              " ('never', 142),\n",
              " ('really', 140),\n",
              " ('first', 140),\n",
              " ('area', 136),\n",
              " ('parking', 136),\n",
              " ('price', 134),\n",
              " ('small', 134),\n",
              " ('two', 133),\n",
              " ('morning', 131),\n",
              " ('airport', 129),\n",
              " ('hot', 128),\n",
              " ('friendly', 127),\n",
              " ('went', 125),\n",
              " ('water', 121),\n",
              " ('food', 121),\n",
              " ('asked', 116),\n",
              " ('people', 114),\n",
              " ('restaurant', 113),\n",
              " ('another', 112),\n",
              " ('little', 112),\n",
              " ('comfortable', 111)]"
            ]
          },
          "metadata": {
            "tags": []
          },
          "execution_count": 28
        }
      ]
    },
    {
      "cell_type": "markdown",
      "metadata": {
        "id": "wQd3N0V7ZFfx",
        "colab_type": "text"
      },
      "source": [
        "Overall, people and staff, breakfast, location, restaurants are nice. However, shower, parking, price and service are not good in hotels at Calgary."
      ]
    },
    {
      "cell_type": "markdown",
      "metadata": {
        "id": "UBoohkkZZFgJ",
        "colab_type": "text"
      },
      "source": [
        "## Mutual Information"
      ]
    },
    {
      "cell_type": "markdown",
      "metadata": {
        "collapsed": true,
        "id": "LB5oKdwzZFgJ",
        "colab_type": "text"
      },
      "source": [
        "Use mutual information (MI) with ground truth sentiment to rank the top-50 most sentiment-bearing non-stopwords in the review collection."
      ]
    },
    {
      "cell_type": "code",
      "metadata": {
        "id": "3IRHcb-PZFgK",
        "colab_type": "code",
        "colab": {}
      },
      "source": [
        "def dataFrameTransformation(hotelDf, reviewDF, k=50):\n",
        "    reviews = reviewDF['Review'].values\n",
        "    stop = set(stopwords.words('english'))\n",
        "    stop.add('hotel')\n",
        "    stop.add('room')\n",
        "    stop.add('rooms')\n",
        "    stop.add('stay')\n",
        "    stop.add('stayed')\n",
        "    stop.add('would')\n",
        "    stop.add('get')\n",
        "    stop.add('also')\n",
        "    stop.add('calgary')\n",
        "    stop.add('one')\n",
        "    stop.add('said')\n",
        "    stop.add('could')\n",
        "    # Top-k frequent terms\n",
        "    counter = Counter()\n",
        "    for review in reviews:\n",
        "      counter.update([word.lower() \n",
        "                      for word \n",
        "                      in re.findall(r'\\w+', review) \n",
        "                      if word.lower() not in stop and len(word) > 2])\n",
        "      # only store the review with more than 2 words\n",
        "      # it is very important when we want to do stop words filter and stemming\n",
        "      # there will be the a review with nothing content\n",
        "    topk = counter.most_common(k)        \n",
        "    \n",
        "    # Find out if each review has the word from topk list\n",
        "    freqReview = []\n",
        "    for i in range(len(reviews)):\n",
        "        tempCounter = Counter([word.lower() for word in re.findall(r'\\w+',reviews[i])])\n",
        "        # tempCounter will return each word (after tokenize) frequency in each review list\n",
        "        topkinReview = [1 if tempCounter[word] > 0 else 0 for (word,wordCount) in topk]\n",
        "        # I only want to know each review contain the top k words or not\n",
        "        # tempCounter[word] will return the frequency of this word in this review list\n",
        "        # but what we want is not frequency, is whether the review has those top words (1 for having 0 for not having)\n",
        "        freqReview.append(topkinReview)\n",
        "        \n",
        "        \n",
        "    # Prepare freqReviewDf\n",
        "    freqReviewDf = pd.DataFrame(freqReview)\n",
        "    dfName = []\n",
        "    for c in topk:\n",
        "        dfName.append(c[0]) # all the topk words in a list\n",
        "    freqReviewDf.columns = dfName # the df column is each word, which is the word in the list\n",
        "    finalreviewDf = reviewDF.join(freqReviewDf)\n",
        "    finaldf = hotelDf[['hotelName','ratingScore','groundTruth']].join(finalreviewDf)\n",
        "    return topk, finaldf"
      ],
      "execution_count": 0,
      "outputs": []
    },
    {
      "cell_type": "code",
      "metadata": {
        "id": "gFCCJleXZFgM",
        "colab_type": "code",
        "colab": {}
      },
      "source": [
        "topk, finaldf = dataFrameTransformation(hotelDF, reviewDF, k=50)"
      ],
      "execution_count": 0,
      "outputs": []
    },
    {
      "cell_type": "code",
      "metadata": {
        "id": "k-bxe3EbZFgP",
        "colab_type": "code",
        "colab": {},
        "outputId": "4ff20c3b-640d-4ccc-913d-a75406221369"
      },
      "source": [
        "finaldf.head()"
      ],
      "execution_count": 0,
      "outputs": [
        {
          "output_type": "execute_result",
          "data": {
            "text/html": [
              "<div>\n",
              "<style scoped>\n",
              "    .dataframe tbody tr th:only-of-type {\n",
              "        vertical-align: middle;\n",
              "    }\n",
              "\n",
              "    .dataframe tbody tr th {\n",
              "        vertical-align: top;\n",
              "    }\n",
              "\n",
              "    .dataframe thead th {\n",
              "        text-align: right;\n",
              "    }\n",
              "</style>\n",
              "<table border=\"1\" class=\"dataframe\">\n",
              "  <thead>\n",
              "    <tr style=\"text-align: right;\">\n",
              "      <th></th>\n",
              "      <th>hotelName</th>\n",
              "      <th>ratingScore</th>\n",
              "      <th>groundTruth</th>\n",
              "      <th>Review</th>\n",
              "      <th>VaderScore</th>\n",
              "      <th>staff</th>\n",
              "      <th>great</th>\n",
              "      <th>good</th>\n",
              "      <th>clean</th>\n",
              "      <th>breakfast</th>\n",
              "      <th>...</th>\n",
              "      <th>business</th>\n",
              "      <th>small</th>\n",
              "      <th>recommend</th>\n",
              "      <th>best</th>\n",
              "      <th>large</th>\n",
              "      <th>little</th>\n",
              "      <th>modern</th>\n",
              "      <th>restaurants</th>\n",
              "      <th>shower</th>\n",
              "      <th>price</th>\n",
              "    </tr>\n",
              "  </thead>\n",
              "  <tbody>\n",
              "    <tr>\n",
              "      <th>0</th>\n",
              "      <td>Element Calgary Airport</td>\n",
              "      <td>0</td>\n",
              "      <td>negative</td>\n",
              "      <td>Arrived to check into a King Executive Suite A...</td>\n",
              "      <td>0.2413</td>\n",
              "      <td>0</td>\n",
              "      <td>0</td>\n",
              "      <td>0</td>\n",
              "      <td>1</td>\n",
              "      <td>1</td>\n",
              "      <td>...</td>\n",
              "      <td>0</td>\n",
              "      <td>0</td>\n",
              "      <td>0</td>\n",
              "      <td>0</td>\n",
              "      <td>0</td>\n",
              "      <td>0</td>\n",
              "      <td>0</td>\n",
              "      <td>0</td>\n",
              "      <td>0</td>\n",
              "      <td>1</td>\n",
              "    </tr>\n",
              "    <tr>\n",
              "      <th>1</th>\n",
              "      <td>Element Calgary Airport</td>\n",
              "      <td>1</td>\n",
              "      <td>positive</td>\n",
              "      <td>I really enjoyed my stay here. The room had a ...</td>\n",
              "      <td>0.9701</td>\n",
              "      <td>0</td>\n",
              "      <td>0</td>\n",
              "      <td>0</td>\n",
              "      <td>1</td>\n",
              "      <td>0</td>\n",
              "      <td>...</td>\n",
              "      <td>0</td>\n",
              "      <td>0</td>\n",
              "      <td>0</td>\n",
              "      <td>0</td>\n",
              "      <td>1</td>\n",
              "      <td>0</td>\n",
              "      <td>0</td>\n",
              "      <td>0</td>\n",
              "      <td>0</td>\n",
              "      <td>0</td>\n",
              "    </tr>\n",
              "    <tr>\n",
              "      <th>2</th>\n",
              "      <td>Element Calgary Airport</td>\n",
              "      <td>1</td>\n",
              "      <td>positive</td>\n",
              "      <td>We stayed one night in this new hotel and it's...</td>\n",
              "      <td>0.9939</td>\n",
              "      <td>1</td>\n",
              "      <td>1</td>\n",
              "      <td>1</td>\n",
              "      <td>1</td>\n",
              "      <td>1</td>\n",
              "      <td>...</td>\n",
              "      <td>0</td>\n",
              "      <td>0</td>\n",
              "      <td>1</td>\n",
              "      <td>0</td>\n",
              "      <td>0</td>\n",
              "      <td>1</td>\n",
              "      <td>1</td>\n",
              "      <td>0</td>\n",
              "      <td>1</td>\n",
              "      <td>0</td>\n",
              "    </tr>\n",
              "    <tr>\n",
              "      <th>3</th>\n",
              "      <td>Element Calgary Airport</td>\n",
              "      <td>1</td>\n",
              "      <td>positive</td>\n",
              "      <td>Stayed at this hotel for business trip purpose...</td>\n",
              "      <td>0.9530</td>\n",
              "      <td>1</td>\n",
              "      <td>0</td>\n",
              "      <td>0</td>\n",
              "      <td>1</td>\n",
              "      <td>1</td>\n",
              "      <td>...</td>\n",
              "      <td>1</td>\n",
              "      <td>0</td>\n",
              "      <td>0</td>\n",
              "      <td>0</td>\n",
              "      <td>0</td>\n",
              "      <td>0</td>\n",
              "      <td>1</td>\n",
              "      <td>0</td>\n",
              "      <td>0</td>\n",
              "      <td>0</td>\n",
              "    </tr>\n",
              "    <tr>\n",
              "      <th>4</th>\n",
              "      <td>Element Calgary Airport</td>\n",
              "      <td>1</td>\n",
              "      <td>positive</td>\n",
              "      <td>Very clean. Modern and bright. GREAT mattress ...</td>\n",
              "      <td>0.9090</td>\n",
              "      <td>1</td>\n",
              "      <td>1</td>\n",
              "      <td>0</td>\n",
              "      <td>1</td>\n",
              "      <td>1</td>\n",
              "      <td>...</td>\n",
              "      <td>0</td>\n",
              "      <td>0</td>\n",
              "      <td>0</td>\n",
              "      <td>0</td>\n",
              "      <td>0</td>\n",
              "      <td>0</td>\n",
              "      <td>1</td>\n",
              "      <td>0</td>\n",
              "      <td>0</td>\n",
              "      <td>0</td>\n",
              "    </tr>\n",
              "  </tbody>\n",
              "</table>\n",
              "<p>5 rows × 55 columns</p>\n",
              "</div>"
            ],
            "text/plain": [
              "                 hotelName  ratingScore groundTruth  \\\n",
              "0  Element Calgary Airport            0    negative   \n",
              "1  Element Calgary Airport            1    positive   \n",
              "2  Element Calgary Airport            1    positive   \n",
              "3  Element Calgary Airport            1    positive   \n",
              "4  Element Calgary Airport            1    positive   \n",
              "\n",
              "                                              Review  VaderScore  staff  \\\n",
              "0  Arrived to check into a King Executive Suite A...      0.2413      0   \n",
              "1  I really enjoyed my stay here. The room had a ...      0.9701      0   \n",
              "2  We stayed one night in this new hotel and it's...      0.9939      1   \n",
              "3  Stayed at this hotel for business trip purpose...      0.9530      1   \n",
              "4  Very clean. Modern and bright. GREAT mattress ...      0.9090      1   \n",
              "\n",
              "   great  good  clean  breakfast  ...    business  small  recommend  best  \\\n",
              "0      0     0      1          1  ...           0      0          0     0   \n",
              "1      0     0      1          0  ...           0      0          0     0   \n",
              "2      1     1      1          1  ...           0      0          1     0   \n",
              "3      0     0      1          1  ...           1      0          0     0   \n",
              "4      1     0      1          1  ...           0      0          0     0   \n",
              "\n",
              "   large  little  modern  restaurants  shower  price  \n",
              "0      0       0       0            0       0      1  \n",
              "1      1       0       0            0       0      0  \n",
              "2      0       1       1            0       1      0  \n",
              "3      0       0       1            0       0      0  \n",
              "4      0       0       1            0       0      0  \n",
              "\n",
              "[5 rows x 55 columns]"
            ]
          },
          "metadata": {
            "tags": []
          },
          "execution_count": 45
        }
      ]
    },
    {
      "cell_type": "code",
      "metadata": {
        "id": "_Oui5Y6HZFgS",
        "colab_type": "code",
        "colab": {}
      },
      "source": [
        "# get Top K mutual information terms from the dataframe\n",
        "def getMI(topk, df, label_column='groundTruth'):\n",
        "    miScore = []\n",
        "    for word in topk: #word is a truple, each line ('term',frequency) in above list\n",
        "        # word[0] is each word's string, because index is from zero\n",
        "        # finaldf['groundTruth'] is the target label, finaldf[word[0]] is the word column in the finaldf\n",
        "        miScore.append([word[0]]+[metrics.mutual_info_score(df[label_column], df[word[0]])])\n",
        "    miScoredf = pd.DataFrame(miScore).sort_values(1,ascending=0)\n",
        "    miScoredf.columns = ['Word','MI Score']\n",
        "    return miScoredf"
      ],
      "execution_count": 0,
      "outputs": []
    },
    {
      "cell_type": "code",
      "metadata": {
        "id": "3HoDnwa5ZFgV",
        "colab_type": "code",
        "colab": {}
      },
      "source": [
        "miScoredf = getMI(topk, finaldf)"
      ],
      "execution_count": 0,
      "outputs": []
    },
    {
      "cell_type": "code",
      "metadata": {
        "id": "DLlV3sHsZFgX",
        "colab_type": "code",
        "colab": {},
        "outputId": "5e5c34fe-e6fc-4287-ae6e-c027e64e0606"
      },
      "source": [
        "miScoredf.head()"
      ],
      "execution_count": 0,
      "outputs": [
        {
          "output_type": "execute_result",
          "data": {
            "text/html": [
              "<div>\n",
              "<style scoped>\n",
              "    .dataframe tbody tr th:only-of-type {\n",
              "        vertical-align: middle;\n",
              "    }\n",
              "\n",
              "    .dataframe tbody tr th {\n",
              "        vertical-align: top;\n",
              "    }\n",
              "\n",
              "    .dataframe thead th {\n",
              "        text-align: right;\n",
              "    }\n",
              "</style>\n",
              "<table border=\"1\" class=\"dataframe\">\n",
              "  <thead>\n",
              "    <tr style=\"text-align: right;\">\n",
              "      <th></th>\n",
              "      <th>Word</th>\n",
              "      <th>MI Score</th>\n",
              "    </tr>\n",
              "  </thead>\n",
              "  <tbody>\n",
              "    <tr>\n",
              "      <th>1</th>\n",
              "      <td>great</td>\n",
              "      <td>0.027144</td>\n",
              "    </tr>\n",
              "    <tr>\n",
              "      <th>31</th>\n",
              "      <td>excellent</td>\n",
              "      <td>0.013283</td>\n",
              "    </tr>\n",
              "    <tr>\n",
              "      <th>0</th>\n",
              "      <td>staff</td>\n",
              "      <td>0.012922</td>\n",
              "    </tr>\n",
              "    <tr>\n",
              "      <th>10</th>\n",
              "      <td>comfortable</td>\n",
              "      <td>0.011663</td>\n",
              "    </tr>\n",
              "    <tr>\n",
              "      <th>19</th>\n",
              "      <td>helpful</td>\n",
              "      <td>0.009807</td>\n",
              "    </tr>\n",
              "  </tbody>\n",
              "</table>\n",
              "</div>"
            ],
            "text/plain": [
              "           Word  MI Score\n",
              "1         great  0.027144\n",
              "31    excellent  0.013283\n",
              "0         staff  0.012922\n",
              "10  comfortable  0.011663\n",
              "19      helpful  0.009807"
            ]
          },
          "metadata": {
            "tags": []
          },
          "execution_count": 48
        }
      ]
    },
    {
      "cell_type": "markdown",
      "metadata": {
        "id": "lUPjT82dZFga",
        "colab_type": "text"
      },
      "source": [
        "Those words are showing in the top50 frequency words list."
      ]
    },
    {
      "cell_type": "markdown",
      "metadata": {
        "id": "al8NP3QpZFhH",
        "colab_type": "text"
      },
      "source": [
        "## Data exploratory analysis (EDA)"
      ]
    },
    {
      "cell_type": "markdown",
      "metadata": {
        "collapsed": true,
        "id": "Hhx8lzMSZFhI",
        "colab_type": "text"
      },
      "source": [
        "### Rating score distribution"
      ]
    },
    {
      "cell_type": "code",
      "metadata": {
        "id": "fFnO34LEZFhJ",
        "colab_type": "code",
        "colab": {},
        "outputId": "7aff02b3-8115-4707-c1a3-12fe8a94cc1b"
      },
      "source": [
        "plt.hist(hotelDf['ratingScore'].values)\n",
        "plt.title('groundTruth')\n",
        "plt.xlabel(\"Value\")\n",
        "plt.ylabel(\"Frequency\")\n",
        "fig = plt.gcf()"
      ],
      "execution_count": 0,
      "outputs": [
        {
          "output_type": "display_data",
          "data": {
            "image/png": "[encoded data removed]",
            "text/plain": [
              "<matplotlib.figure.Figure at 0x276d15f1c18>"
            ]
          },
          "metadata": {
            "tags": []
          }
        }
      ]
    },
    {
      "cell_type": "markdown",
      "metadata": {
        "id": "Md6uEcltlbyN",
        "colab_type": "text"
      },
      "source": [
        "### Vader score distribution"
      ]
    },
    {
      "cell_type": "code",
      "metadata": {
        "id": "X5doIJsLZFhK",
        "colab_type": "code",
        "colab": {},
        "outputId": "04398f1d-4058-4475-f16a-b16d936ed3aa"
      },
      "source": [
        "plt.hist(newdf['VaderScore'].values)\n",
        "plt.title('Vadar Sentiment Analysis')\n",
        "plt.xlabel(\"Value\")\n",
        "plt.ylabel(\"Frequency\")\n",
        "fig = plt.gcf()"
      ],
      "execution_count": 0,
      "outputs": [
        {
          "output_type": "display_data",
          "data": {
            "image/png": "[encoded data removed]",
            "text/plain": [
              "<matplotlib.figure.Figure at 0x276d16f0d68>"
            ]
          },
          "metadata": {
            "tags": []
          }
        }
      ]
    },
    {
      "cell_type": "markdown",
      "metadata": {
        "id": "owY-geEiZFhM",
        "colab_type": "text"
      },
      "source": [
        "#### Number of comments per hotel"
      ]
    },
    {
      "cell_type": "code",
      "metadata": {
        "id": "NnCXSVHSZFhM",
        "colab_type": "code",
        "colab": {}
      },
      "source": [
        "hotel_count = []\n",
        "for hotel in RatingDf_GT['hotelName']:\n",
        "    count = sum(newdf.hotelName==hotel)\n",
        "    occurance = count*[hotel] #each user has a list\n",
        "    hotel_count.extend(occurance)"
      ],
      "execution_count": 0,
      "outputs": []
    },
    {
      "cell_type": "code",
      "metadata": {
        "id": "sRnbtYHXZFhO",
        "colab_type": "code",
        "colab": {}
      },
      "source": [
        "f = pd.factorize(hotel_count)"
      ],
      "execution_count": 0,
      "outputs": []
    },
    {
      "cell_type": "code",
      "metadata": {
        "id": "s6gJ9SY3ZFhR",
        "colab_type": "code",
        "colab": {},
        "outputId": "48a2cdff-5a97-4d9b-dbe0-a7188b1fcdc9"
      },
      "source": [
        "f[0] # I convert the hotel name to int from most popular (left) to less popular (right)"
      ],
      "execution_count": 0,
      "outputs": [
        {
          "output_type": "execute_result",
          "data": {
            "text/plain": [
              "array([ 0,  0,  0, ..., 69, 69, 69], dtype=int64)"
            ]
          },
          "metadata": {
            "tags": []
          },
          "execution_count": 108
        }
      ]
    },
    {
      "cell_type": "code",
      "metadata": {
        "id": "Wlav6iiuZFhT",
        "colab_type": "code",
        "colab": {}
      },
      "source": [
        "hotel_ID = []\n",
        "for i in range(70):\n",
        "    hotel_ID.append(i)\n",
        "hotel_ID.append(70)"
      ],
      "execution_count": 0,
      "outputs": []
    },
    {
      "cell_type": "code",
      "metadata": {
        "id": "2cqZWmFPZFhV",
        "colab_type": "code",
        "colab": {},
        "outputId": "857c5b0b-4dd1-452b-a8ad-80919d101074"
      },
      "source": [
        "plt.figure(figsize =(10,5))\n",
        "plt.hist(f[0], bins=hotel_ID)\n",
        "plt.xlabel('hotel ID')\n",
        "plt.ylabel('number of ratings')\n",
        "plt.title('histogram showing the number of ratings per hotel from most popular(left) to less popular(right)')"
      ],
      "execution_count": 0,
      "outputs": [
        {
          "output_type": "execute_result",
          "data": {
            "text/plain": [
              "Text(0.5,1,'histogram showing the number of ratings per hotel from most popular(left) to less popular(right)')"
            ]
          },
          "metadata": {
            "tags": []
          },
          "execution_count": 111
        },
        {
          "output_type": "display_data",
          "data": {
            "image/png": "[encoded data removed]",
            "text/plain": [
              "<matplotlib.figure.Figure at 0x276d1156d68>"
            ]
          },
          "metadata": {
            "tags": []
          }
        }
      ]
    },
    {
      "cell_type": "markdown",
      "metadata": {
        "id": "pSy3kljOZFhZ",
        "colab_type": "text"
      },
      "source": [
        "In conclusion, more popular hotels tend to have much more reviews."
      ]
    },
    {
      "cell_type": "markdown",
      "metadata": {
        "collapsed": true,
        "id": "rUIrlmjAZFha",
        "colab_type": "text"
      },
      "source": [
        "### Rating score box plot"
      ]
    },
    {
      "cell_type": "code",
      "metadata": {
        "id": "nlkJjIyxZFhb",
        "colab_type": "code",
        "colab": {},
        "outputId": "0605643d-fd09-4125-bc84-fe30e70d072a"
      },
      "source": [
        "#Plot top 5 side-by-side boxplot for top 5 ground truth rated hotel\n",
        "tp5gthotel = RatingDf_GT.sort_values('avg GT sentiment',ascending=0).head(5)\n",
        "tp5gthotel['hotelName'].values\n",
        "\n",
        "Residence_Inn_Marriott = hotelDf.loc[hotelDf['hotelName'] == tp5gthotel['hotelName'].values[0]]['ratingScore']\n",
        "Wingate_by_Wyndham = hotelDf.loc[hotelDf['hotelName'] == tp5gthotel['hotelName'].values[1]]['ratingScore']\n",
        "Marriott_Downtown = hotelDf.loc[hotelDf['hotelName'] == tp5gthotel['hotelName'].values[2]]['ratingScore']\n",
        "Courtyard_by_Marriott = hotelDf.loc[hotelDf['hotelName'] == tp5gthotel['hotelName'].values[3]]['ratingScore']\n",
        "Hotel_Elan = hotelDf.loc[hotelDf['hotelName'] == tp5gthotel['hotelName'].values[4]]['ratingScore']\n",
        "\n",
        "data = [Residence_Inn_Marriott, Wingate_by_Wyndham, Marriott_Downtown, Courtyard_by_Marriott, Hotel_Elan]\n",
        "# multiple box plots on one figure\n",
        "plt.figure()\n",
        "plt.boxplot(data)\n",
        "plt.show()"
      ],
      "execution_count": 0,
      "outputs": [
        {
          "output_type": "display_data",
          "data": {
            "image/png": "[encoded data removed]",
            "text/plain": [
              "<matplotlib.figure.Figure at 0x276d13d3b38>"
            ]
          },
          "metadata": {
            "tags": []
          }
        }
      ]
    },
    {
      "cell_type": "markdown",
      "metadata": {
        "id": "iu2Vjv3fZFhd",
        "colab_type": "text"
      },
      "source": [
        "#### Mean and variance of the ground truth and Vader sentiment scores for the top-5 ranked hotels"
      ]
    },
    {
      "cell_type": "code",
      "metadata": {
        "id": "chqknK8dZFhd",
        "colab_type": "code",
        "colab": {}
      },
      "source": [
        "hotels_mean = []\n",
        "hotels_variance = []\n",
        "for hotel in [Residence_Inn_Marriott, Wingate_by_Wyndham, Marriott_Downtown, Courtyard_by_Marriott, Hotel_Elan]:\n",
        "    hotels_mean.append(hotel.mean())\n",
        "    hotels_variance.append(hotel.var())"
      ],
      "execution_count": 0,
      "outputs": []
    },
    {
      "cell_type": "code",
      "metadata": {
        "id": "ZWRDL0tqZFhj",
        "colab_type": "code",
        "colab": {}
      },
      "source": [
        "hotels_comparison = pd.DataFrame({'mean': hotels_mean, 'variance': hotels_variance})\n",
        "hotels_comparison.rename(index = {0: tp5gthotel['hotelName'].values[0], 1:tp5gthotel['hotelName'].values[1], \n",
        "                                  2:tp5gthotel['hotelName'].values[2], 3:tp5gthotel['hotelName'].values[3],\n",
        "                                 4:tp5gthotel['hotelName'].values[4]}, \n",
        "                                 inplace = True)"
      ],
      "execution_count": 0,
      "outputs": []
    },
    {
      "cell_type": "code",
      "metadata": {
        "id": "V_TgdFROZFhl",
        "colab_type": "code",
        "colab": {},
        "outputId": "332a99ed-ea66-487f-c6b0-468ef0451056"
      },
      "source": [
        "hotels_comparison.sort_values('mean', ascending=0)"
      ],
      "execution_count": 0,
      "outputs": [
        {
          "output_type": "execute_result",
          "data": {
            "text/html": [
              "<div>\n",
              "<style scoped>\n",
              "    .dataframe tbody tr th:only-of-type {\n",
              "        vertical-align: middle;\n",
              "    }\n",
              "\n",
              "    .dataframe tbody tr th {\n",
              "        vertical-align: top;\n",
              "    }\n",
              "\n",
              "    .dataframe thead th {\n",
              "        text-align: right;\n",
              "    }\n",
              "</style>\n",
              "<table border=\"1\" class=\"dataframe\">\n",
              "  <thead>\n",
              "    <tr style=\"text-align: right;\">\n",
              "      <th></th>\n",
              "      <th>mean</th>\n",
              "      <th>variance</th>\n",
              "    </tr>\n",
              "  </thead>\n",
              "  <tbody>\n",
              "    <tr>\n",
              "      <th>Hotel Elan</th>\n",
              "      <td>4.909091</td>\n",
              "      <td>0.086580</td>\n",
              "    </tr>\n",
              "    <tr>\n",
              "      <th>Calgary Marriott Downtown Hotel</th>\n",
              "      <td>4.763636</td>\n",
              "      <td>0.183838</td>\n",
              "    </tr>\n",
              "    <tr>\n",
              "      <th>Residence Inn by Marriott Calgary Airport</th>\n",
              "      <td>4.710526</td>\n",
              "      <td>0.211238</td>\n",
              "    </tr>\n",
              "    <tr>\n",
              "      <th>Courtyard by Marriott Calgary Airport</th>\n",
              "      <td>4.615385</td>\n",
              "      <td>0.240385</td>\n",
              "    </tr>\n",
              "    <tr>\n",
              "      <th>Wingate by Wyndham Calgary South</th>\n",
              "      <td>4.500000</td>\n",
              "      <td>0.500000</td>\n",
              "    </tr>\n",
              "  </tbody>\n",
              "</table>\n",
              "</div>"
            ],
            "text/plain": [
              "                                               mean  variance\n",
              "Hotel Elan                                 4.909091  0.086580\n",
              "Calgary Marriott Downtown Hotel            4.763636  0.183838\n",
              "Residence Inn by Marriott Calgary Airport  4.710526  0.211238\n",
              "Courtyard by Marriott Calgary Airport      4.615385  0.240385\n",
              "Wingate by Wyndham Calgary South           4.500000  0.500000"
            ]
          },
          "metadata": {
            "tags": []
          },
          "execution_count": 136
        }
      ]
    },
    {
      "cell_type": "markdown",
      "metadata": {
        "id": "zQI4ZN3FZFho",
        "colab_type": "text"
      },
      "source": [
        "Mean and variance are more infomative. Because they are so similar that box plot can hardly tell the difference."
      ]
    },
    {
      "cell_type": "markdown",
      "metadata": {
        "id": "rwdzgDekZFhp",
        "colab_type": "text"
      },
      "source": [
        "### Rating vs. Vader score"
      ]
    },
    {
      "cell_type": "code",
      "metadata": {
        "id": "-ZOgI43zZFhr",
        "colab_type": "code",
        "colab": {}
      },
      "source": [
        "from scipy.stats.kde import gaussian_kde\n",
        "def getheatmap(x,y,xlabel,ylabel):\n",
        "    k = gaussian_kde(np.vstack([x, y]))\n",
        "    xi, yi = np.mgrid[x.min():x.max():x.size**0.5*1j, y.min():y.max():y.size**0.5*1j]\n",
        "    zi = k(np.vstack([xi.flatten(), yi.flatten()]))\n",
        "    cmap = sns.cubehelix_palette(light=1, as_cmap=True)\n",
        "    fig = plt.figure(figsize=(6,8))\n",
        "    ax1 = fig.add_subplot(211)\n",
        "    ax2 = fig.add_subplot(212)\n",
        "\n",
        "    ax1.pcolormesh(xi, yi, np.log10(zi.reshape(xi.shape)), cmap=cmap)\n",
        "    ax2.contourf(xi, yi, np.log10(zi.reshape(xi.shape)), cmap=cmap)\n",
        "\n",
        "    ax1.set_xlim(x.min(), x.max())\n",
        "    ax1.set_ylim(y.min(), y.max())\n",
        "    ax2.set_xlim(x.min(), x.max())\n",
        "    ax2.set_ylim(y.min(), y.max())\n",
        "\n",
        "    ax1.set_xlabel(xlabel)\n",
        "    ax1.set_ylabel(ylabel)\n",
        "\n",
        "    ax2.set_xlabel(xlabel)\n",
        "    ax2.set_ylabel(ylabel)"
      ],
      "execution_count": 0,
      "outputs": []
    },
    {
      "cell_type": "code",
      "metadata": {
        "id": "RY82P39YZFhs",
        "colab_type": "code",
        "colab": {},
        "outputId": "4ad795b2-9661-4e4f-f108-47b8e808972b"
      },
      "source": [
        "getheatmap(x,y,'Vader Score','Rating')"
      ],
      "execution_count": 0,
      "outputs": [
        {
          "output_type": "display_data",
          "data": {
            "image/png": "[encoded data removed]",
            "text/plain": [
              "<matplotlib.figure.Figure at 0x276d185be80>"
            ]
          },
          "metadata": {
            "tags": []
          }
        }
      ]
    },
    {
      "cell_type": "markdown",
      "metadata": {
        "id": "7Mij1MUuZFhv",
        "colab_type": "text"
      },
      "source": [
        "We can see the reviews have highest vader always have having rating."
      ]
    },
    {
      "cell_type": "markdown",
      "metadata": {
        "id": "uCemPbrkZFhw",
        "colab_type": "text"
      },
      "source": [
        "### Length of reviews vs. Rating vs. Vader score"
      ]
    },
    {
      "cell_type": "code",
      "metadata": {
        "id": "esoUO03DZFhw",
        "colab_type": "code",
        "colab": {},
        "outputId": "e4fe17e5-4a9a-40b2-fc2c-41aabc9d73b5"
      },
      "source": [
        "y_ii = [len(s.split()) for s in newdf.Review]\n",
        "x_ii = newdf['ratingScore'].values\n",
        "plt.plot(x_ii, y_ii, 'o')\n",
        "plt.ylabel('length of reviews')\n",
        "plt.xlabel('Rating')"
      ],
      "execution_count": 0,
      "outputs": [
        {
          "output_type": "execute_result",
          "data": {
            "text/plain": [
              "Text(0.5,0,'Rating')"
            ]
          },
          "metadata": {
            "tags": []
          },
          "execution_count": 160
        },
        {
          "output_type": "display_data",
          "data": {
            "image/png": "[encoded data removed]",
            "text/plain": [
              "<matplotlib.figure.Figure at 0x276d1777be0>"
            ]
          },
          "metadata": {
            "tags": []
          }
        }
      ]
    },
    {
      "cell_type": "code",
      "metadata": {
        "id": "HSwYtJb7ZFhy",
        "colab_type": "code",
        "colab": {},
        "outputId": "e6be90a3-1257-4a3b-ddcb-28154d0a8043"
      },
      "source": [
        "getheatmap(np.array(x_ii),np.array(y_ii),'Rating','length of reviews')"
      ],
      "execution_count": 0,
      "outputs": [
        {
          "output_type": "display_data",
          "data": {
            "image/png": "[encoded data removed]",
            "text/plain": [
              "<matplotlib.figure.Figure at 0x276d163a240>"
            ]
          },
          "metadata": {
            "tags": []
          }
        }
      ]
    },
    {
      "cell_type": "markdown",
      "metadata": {
        "id": "dOmuLVE9ZFhz",
        "colab_type": "text"
      },
      "source": [
        "Negative reviews tend to be slightly longer."
      ]
    },
    {
      "cell_type": "code",
      "metadata": {
        "id": "wYZLgOx_ZFhz",
        "colab_type": "code",
        "colab": {},
        "outputId": "6fcfb731-f881-4fa1-a9bd-64e605e76c82"
      },
      "source": [
        "y_ii = [len(s.split()) for s in newdf.Review]\n",
        "x_ii_new = newdf['VaderScore'].values\n",
        "plt.plot(x_ii_new, y_ii,\"o\")\n",
        "plt.ylabel('length of reviews')\n",
        "plt.xlabel('Vader Rating')"
      ],
      "execution_count": 0,
      "outputs": [
        {
          "output_type": "execute_result",
          "data": {
            "text/plain": [
              "Text(0.5,0,'Vader Rating')"
            ]
          },
          "metadata": {
            "tags": []
          },
          "execution_count": 161
        },
        {
          "output_type": "display_data",
          "data": {
            "image/png": "[encoded data removed]",
            "text/plain": [
              "<matplotlib.figure.Figure at 0x276d16f00b8>"
            ]
          },
          "metadata": {
            "tags": []
          }
        }
      ]
    },
    {
      "cell_type": "code",
      "metadata": {
        "id": "renw5T8mZFh1",
        "colab_type": "code",
        "colab": {},
        "outputId": "7adebce7-b72c-457d-ec66-461c34db2025"
      },
      "source": [
        "getheatmap(np.array(x_ii_new),np.array(y_ii),'Vader Rating','length of reviews')"
      ],
      "execution_count": 0,
      "outputs": [
        {
          "output_type": "display_data",
          "data": {
            "image/png": "[encoded data removed]",
            "text/plain": [
              "<matplotlib.figure.Figure at 0x276cfc38080>"
            ]
          },
          "metadata": {
            "tags": []
          }
        }
      ]
    },
    {
      "cell_type": "markdown",
      "metadata": {
        "id": "E2EgVVe_ZFh2",
        "colab_type": "text"
      },
      "source": [
        "Review with larger vader ratings tend to be longer."
      ]
    }
  ]
}